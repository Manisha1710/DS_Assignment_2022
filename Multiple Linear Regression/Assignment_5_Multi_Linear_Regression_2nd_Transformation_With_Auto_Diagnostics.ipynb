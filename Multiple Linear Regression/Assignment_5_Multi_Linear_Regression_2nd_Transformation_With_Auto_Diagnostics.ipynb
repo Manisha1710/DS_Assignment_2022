{
 "cells": [
  {
   "cell_type": "markdown",
   "metadata": {},
   "source": [
    "# Assignment 5 -- Multi Linear Regression\n",
    "Problem Statement 2nd\n",
    "Prepare a prediction model for profit of 50_startups data. Do transformations for getting better predictions of profit and make a table containing R^2 value for each prepared model.\n",
    "\n",
    "R&D Spend -- Research and devolop spend in the past few years Administration -- spend on administration in the past few years Marketing Spend -- spend on Marketing in the past few years State -- states from which data is collected Profit -- profit of each state in the past few years\n",
    "\n",
    "Dataset--> 50_Startsups.csv"
   ]
  },
  {
   "cell_type": "code",
   "execution_count": 1,
   "metadata": {
    "ExecuteTime": {
     "end_time": "2022-01-11T19:26:30.524023Z",
     "start_time": "2022-01-11T19:26:29.352298Z"
    }
   },
   "outputs": [],
   "source": [
    "#Importing the Required Labaries\n",
    "import numpy as np\n",
    "import pandas as pd\n",
    "import matplotlib.pyplot as plt\n",
    "import seaborn as sns\n",
    "from statsmodels.graphics.regressionplots import influence_plot\n",
    "import statsmodels.formula.api as smf\n",
    "\n",
    "import warnings\n",
    "warnings.filterwarnings(\"ignore\")  #--to ignore warnings"
   ]
  },
  {
   "cell_type": "code",
   "execution_count": 2,
   "metadata": {
    "ExecuteTime": {
     "end_time": "2022-01-11T19:27:27.782629Z",
     "start_time": "2022-01-11T19:27:27.761194Z"
    }
   },
   "outputs": [
    {
     "data": {
      "text/html": [
       "<div>\n",
       "<style scoped>\n",
       "    .dataframe tbody tr th:only-of-type {\n",
       "        vertical-align: middle;\n",
       "    }\n",
       "\n",
       "    .dataframe tbody tr th {\n",
       "        vertical-align: top;\n",
       "    }\n",
       "\n",
       "    .dataframe thead th {\n",
       "        text-align: right;\n",
       "    }\n",
       "</style>\n",
       "<table border=\"1\" class=\"dataframe\">\n",
       "  <thead>\n",
       "    <tr style=\"text-align: right;\">\n",
       "      <th></th>\n",
       "      <th>R&amp;D Spend</th>\n",
       "      <th>Administration</th>\n",
       "      <th>Marketing Spend</th>\n",
       "      <th>State</th>\n",
       "      <th>Profit</th>\n",
       "    </tr>\n",
       "  </thead>\n",
       "  <tbody>\n",
       "    <tr>\n",
       "      <th>0</th>\n",
       "      <td>165349.20</td>\n",
       "      <td>136897.80</td>\n",
       "      <td>471784.10</td>\n",
       "      <td>New York</td>\n",
       "      <td>192261.83</td>\n",
       "    </tr>\n",
       "    <tr>\n",
       "      <th>1</th>\n",
       "      <td>162597.70</td>\n",
       "      <td>151377.59</td>\n",
       "      <td>443898.53</td>\n",
       "      <td>California</td>\n",
       "      <td>191792.06</td>\n",
       "    </tr>\n",
       "    <tr>\n",
       "      <th>2</th>\n",
       "      <td>153441.51</td>\n",
       "      <td>101145.55</td>\n",
       "      <td>407934.54</td>\n",
       "      <td>Florida</td>\n",
       "      <td>191050.39</td>\n",
       "    </tr>\n",
       "    <tr>\n",
       "      <th>3</th>\n",
       "      <td>144372.41</td>\n",
       "      <td>118671.85</td>\n",
       "      <td>383199.62</td>\n",
       "      <td>New York</td>\n",
       "      <td>182901.99</td>\n",
       "    </tr>\n",
       "    <tr>\n",
       "      <th>4</th>\n",
       "      <td>142107.34</td>\n",
       "      <td>91391.77</td>\n",
       "      <td>366168.42</td>\n",
       "      <td>Florida</td>\n",
       "      <td>166187.94</td>\n",
       "    </tr>\n",
       "  </tbody>\n",
       "</table>\n",
       "</div>"
      ],
      "text/plain": [
       "   R&D Spend  Administration  Marketing Spend       State     Profit\n",
       "0  165349.20       136897.80        471784.10    New York  192261.83\n",
       "1  162597.70       151377.59        443898.53  California  191792.06\n",
       "2  153441.51       101145.55        407934.54     Florida  191050.39\n",
       "3  144372.41       118671.85        383199.62    New York  182901.99\n",
       "4  142107.34        91391.77        366168.42     Florida  166187.94"
      ]
     },
     "execution_count": 2,
     "metadata": {},
     "output_type": "execute_result"
    }
   ],
   "source": [
    "#Loading The Dataset\n",
    "Dataset = pd.read_csv(\"C:/Users/MANISHA/Downloads/50_Startups.csv\")\n",
    "Dataset.head()"
   ]
  },
  {
   "cell_type": "markdown",
   "metadata": {},
   "source": [
    "# Renaming the column\n",
    "Because of spaces between the column \"R&D Spend\" and \"Marketing Spend\""
   ]
  },
  {
   "cell_type": "code",
   "execution_count": 3,
   "metadata": {
    "ExecuteTime": {
     "end_time": "2022-01-11T19:31:24.555903Z",
     "start_time": "2022-01-11T19:31:24.531299Z"
    }
   },
   "outputs": [
    {
     "data": {
      "text/html": [
       "<div>\n",
       "<style scoped>\n",
       "    .dataframe tbody tr th:only-of-type {\n",
       "        vertical-align: middle;\n",
       "    }\n",
       "\n",
       "    .dataframe tbody tr th {\n",
       "        vertical-align: top;\n",
       "    }\n",
       "\n",
       "    .dataframe thead th {\n",
       "        text-align: right;\n",
       "    }\n",
       "</style>\n",
       "<table border=\"1\" class=\"dataframe\">\n",
       "  <thead>\n",
       "    <tr style=\"text-align: right;\">\n",
       "      <th></th>\n",
       "      <th>R_D_Spend</th>\n",
       "      <th>Administration</th>\n",
       "      <th>Marketing_Spend</th>\n",
       "      <th>State</th>\n",
       "      <th>Profit</th>\n",
       "    </tr>\n",
       "  </thead>\n",
       "  <tbody>\n",
       "    <tr>\n",
       "      <th>0</th>\n",
       "      <td>165349.20</td>\n",
       "      <td>136897.80</td>\n",
       "      <td>471784.10</td>\n",
       "      <td>New York</td>\n",
       "      <td>192261.83</td>\n",
       "    </tr>\n",
       "    <tr>\n",
       "      <th>1</th>\n",
       "      <td>162597.70</td>\n",
       "      <td>151377.59</td>\n",
       "      <td>443898.53</td>\n",
       "      <td>California</td>\n",
       "      <td>191792.06</td>\n",
       "    </tr>\n",
       "    <tr>\n",
       "      <th>2</th>\n",
       "      <td>153441.51</td>\n",
       "      <td>101145.55</td>\n",
       "      <td>407934.54</td>\n",
       "      <td>Florida</td>\n",
       "      <td>191050.39</td>\n",
       "    </tr>\n",
       "    <tr>\n",
       "      <th>3</th>\n",
       "      <td>144372.41</td>\n",
       "      <td>118671.85</td>\n",
       "      <td>383199.62</td>\n",
       "      <td>New York</td>\n",
       "      <td>182901.99</td>\n",
       "    </tr>\n",
       "    <tr>\n",
       "      <th>4</th>\n",
       "      <td>142107.34</td>\n",
       "      <td>91391.77</td>\n",
       "      <td>366168.42</td>\n",
       "      <td>Florida</td>\n",
       "      <td>166187.94</td>\n",
       "    </tr>\n",
       "  </tbody>\n",
       "</table>\n",
       "</div>"
      ],
      "text/plain": [
       "   R_D_Spend  Administration  Marketing_Spend       State     Profit\n",
       "0  165349.20       136897.80        471784.10    New York  192261.83\n",
       "1  162597.70       151377.59        443898.53  California  191792.06\n",
       "2  153441.51       101145.55        407934.54     Florida  191050.39\n",
       "3  144372.41       118671.85        383199.62    New York  182901.99\n",
       "4  142107.34        91391.77        366168.42     Florida  166187.94"
      ]
     },
     "execution_count": 3,
     "metadata": {},
     "output_type": "execute_result"
    }
   ],
   "source": [
    "#rename the R&D Spend & Marketing Spend column axis=1 perform it based on column \n",
    "Dataset = Dataset.rename({'R&D Spend': 'R_D_Spend','Marketing Spend': 'Marketing_Spend'}, axis=1)\n",
    "Dataset.head()"
   ]
  },
  {
   "cell_type": "code",
   "execution_count": 4,
   "metadata": {
    "ExecuteTime": {
     "end_time": "2022-01-11T19:31:33.339441Z",
     "start_time": "2022-01-11T19:31:33.325818Z"
    }
   },
   "outputs": [
    {
     "name": "stdout",
     "output_type": "stream",
     "text": [
      "<class 'pandas.core.frame.DataFrame'>\n",
      "RangeIndex: 50 entries, 0 to 49\n",
      "Data columns (total 5 columns):\n",
      " #   Column           Non-Null Count  Dtype  \n",
      "---  ------           --------------  -----  \n",
      " 0   R_D_Spend        50 non-null     float64\n",
      " 1   Administration   50 non-null     float64\n",
      " 2   Marketing_Spend  50 non-null     float64\n",
      " 3   State            50 non-null     object \n",
      " 4   Profit           50 non-null     float64\n",
      "dtypes: float64(4), object(1)\n",
      "memory usage: 2.1+ KB\n"
     ]
    }
   ],
   "source": [
    "#Checking For Dtypes of Column and NA value\n",
    "Dataset.info()"
   ]
  },
  {
   "cell_type": "markdown",
   "metadata": {},
   "source": [
    "inference: There are no NA values Present in the Dataset, but Dtype of 'State' is Object, So Dropping State Column"
   ]
  },
  {
   "cell_type": "code",
   "execution_count": 5,
   "metadata": {
    "ExecuteTime": {
     "end_time": "2022-01-11T19:31:59.926134Z",
     "start_time": "2022-01-11T19:31:59.902478Z"
    }
   },
   "outputs": [
    {
     "data": {
      "text/html": [
       "<div>\n",
       "<style scoped>\n",
       "    .dataframe tbody tr th:only-of-type {\n",
       "        vertical-align: middle;\n",
       "    }\n",
       "\n",
       "    .dataframe tbody tr th {\n",
       "        vertical-align: top;\n",
       "    }\n",
       "\n",
       "    .dataframe thead th {\n",
       "        text-align: right;\n",
       "    }\n",
       "</style>\n",
       "<table border=\"1\" class=\"dataframe\">\n",
       "  <thead>\n",
       "    <tr style=\"text-align: right;\">\n",
       "      <th></th>\n",
       "      <th>R_D_Spend</th>\n",
       "      <th>Administration</th>\n",
       "      <th>Marketing_Spend</th>\n",
       "      <th>Profit</th>\n",
       "    </tr>\n",
       "  </thead>\n",
       "  <tbody>\n",
       "    <tr>\n",
       "      <th>0</th>\n",
       "      <td>165349.20</td>\n",
       "      <td>136897.80</td>\n",
       "      <td>471784.10</td>\n",
       "      <td>192261.83</td>\n",
       "    </tr>\n",
       "    <tr>\n",
       "      <th>1</th>\n",
       "      <td>162597.70</td>\n",
       "      <td>151377.59</td>\n",
       "      <td>443898.53</td>\n",
       "      <td>191792.06</td>\n",
       "    </tr>\n",
       "    <tr>\n",
       "      <th>2</th>\n",
       "      <td>153441.51</td>\n",
       "      <td>101145.55</td>\n",
       "      <td>407934.54</td>\n",
       "      <td>191050.39</td>\n",
       "    </tr>\n",
       "    <tr>\n",
       "      <th>3</th>\n",
       "      <td>144372.41</td>\n",
       "      <td>118671.85</td>\n",
       "      <td>383199.62</td>\n",
       "      <td>182901.99</td>\n",
       "    </tr>\n",
       "    <tr>\n",
       "      <th>4</th>\n",
       "      <td>142107.34</td>\n",
       "      <td>91391.77</td>\n",
       "      <td>366168.42</td>\n",
       "      <td>166187.94</td>\n",
       "    </tr>\n",
       "  </tbody>\n",
       "</table>\n",
       "</div>"
      ],
      "text/plain": [
       "   R_D_Spend  Administration  Marketing_Spend     Profit\n",
       "0  165349.20       136897.80        471784.10  192261.83\n",
       "1  162597.70       151377.59        443898.53  191792.06\n",
       "2  153441.51       101145.55        407934.54  191050.39\n",
       "3  144372.41       118671.85        383199.62  182901.99\n",
       "4  142107.34        91391.77        366168.42  166187.94"
      ]
     },
     "execution_count": 5,
     "metadata": {},
     "output_type": "execute_result"
    }
   ],
   "source": [
    "#Droping 'State' Column as it is of object Dtype\n",
    "Dataset = Dataset.drop([\"State\"], axis = 1)\n",
    "Dataset.head()"
   ]
  },
  {
   "cell_type": "markdown",
   "metadata": {},
   "source": [
    "# Transformation"
   ]
  },
  {
   "cell_type": "code",
   "execution_count": 6,
   "metadata": {
    "ExecuteTime": {
     "end_time": "2022-01-11T19:32:38.486879Z",
     "start_time": "2022-01-11T19:32:38.455520Z"
    }
   },
   "outputs": [
    {
     "data": {
      "text/html": [
       "<div>\n",
       "<style scoped>\n",
       "    .dataframe tbody tr th:only-of-type {\n",
       "        vertical-align: middle;\n",
       "    }\n",
       "\n",
       "    .dataframe tbody tr th {\n",
       "        vertical-align: top;\n",
       "    }\n",
       "\n",
       "    .dataframe thead th {\n",
       "        text-align: right;\n",
       "    }\n",
       "</style>\n",
       "<table border=\"1\" class=\"dataframe\">\n",
       "  <thead>\n",
       "    <tr style=\"text-align: right;\">\n",
       "      <th></th>\n",
       "      <th>R_D_Spend</th>\n",
       "      <th>Administration</th>\n",
       "      <th>Marketing_Spend</th>\n",
       "    </tr>\n",
       "  </thead>\n",
       "  <tbody>\n",
       "    <tr>\n",
       "      <th>0</th>\n",
       "      <td>406.631529</td>\n",
       "      <td>369.997027</td>\n",
       "      <td>686.865416</td>\n",
       "    </tr>\n",
       "    <tr>\n",
       "      <th>1</th>\n",
       "      <td>403.234051</td>\n",
       "      <td>389.072731</td>\n",
       "      <td>666.257105</td>\n",
       "    </tr>\n",
       "    <tr>\n",
       "      <th>2</th>\n",
       "      <td>391.716109</td>\n",
       "      <td>318.033882</td>\n",
       "      <td>638.697534</td>\n",
       "    </tr>\n",
       "    <tr>\n",
       "      <th>3</th>\n",
       "      <td>379.963696</td>\n",
       "      <td>344.487808</td>\n",
       "      <td>619.031195</td>\n",
       "    </tr>\n",
       "    <tr>\n",
       "      <th>4</th>\n",
       "      <td>376.971272</td>\n",
       "      <td>302.310718</td>\n",
       "      <td>605.118517</td>\n",
       "    </tr>\n",
       "  </tbody>\n",
       "</table>\n",
       "</div>"
      ],
      "text/plain": [
       "    R_D_Spend  Administration  Marketing_Spend\n",
       "0  406.631529      369.997027       686.865416\n",
       "1  403.234051      389.072731       666.257105\n",
       "2  391.716109      318.033882       638.697534\n",
       "3  379.963696      344.487808       619.031195\n",
       "4  376.971272      302.310718       605.118517"
      ]
     },
     "execution_count": 6,
     "metadata": {},
     "output_type": "execute_result"
    }
   ],
   "source": [
    "# Performing Log Transformation on X \n",
    "Transdf= np.sqrt(Dataset.iloc[:,:3])\n",
    "Transdf.head()"
   ]
  },
  {
   "cell_type": "code",
   "execution_count": 7,
   "metadata": {
    "ExecuteTime": {
     "end_time": "2022-01-11T19:32:45.519993Z",
     "start_time": "2022-01-11T19:32:45.492918Z"
    }
   },
   "outputs": [
    {
     "data": {
      "text/html": [
       "<div>\n",
       "<style scoped>\n",
       "    .dataframe tbody tr th:only-of-type {\n",
       "        vertical-align: middle;\n",
       "    }\n",
       "\n",
       "    .dataframe tbody tr th {\n",
       "        vertical-align: top;\n",
       "    }\n",
       "\n",
       "    .dataframe thead th {\n",
       "        text-align: right;\n",
       "    }\n",
       "</style>\n",
       "<table border=\"1\" class=\"dataframe\">\n",
       "  <thead>\n",
       "    <tr style=\"text-align: right;\">\n",
       "      <th></th>\n",
       "      <th>R_D_Spend</th>\n",
       "      <th>Administration</th>\n",
       "      <th>Marketing_Spend</th>\n",
       "      <th>Profit</th>\n",
       "    </tr>\n",
       "  </thead>\n",
       "  <tbody>\n",
       "    <tr>\n",
       "      <th>0</th>\n",
       "      <td>406.631529</td>\n",
       "      <td>369.997027</td>\n",
       "      <td>686.865416</td>\n",
       "      <td>192261.83</td>\n",
       "    </tr>\n",
       "    <tr>\n",
       "      <th>1</th>\n",
       "      <td>403.234051</td>\n",
       "      <td>389.072731</td>\n",
       "      <td>666.257105</td>\n",
       "      <td>191792.06</td>\n",
       "    </tr>\n",
       "    <tr>\n",
       "      <th>2</th>\n",
       "      <td>391.716109</td>\n",
       "      <td>318.033882</td>\n",
       "      <td>638.697534</td>\n",
       "      <td>191050.39</td>\n",
       "    </tr>\n",
       "    <tr>\n",
       "      <th>3</th>\n",
       "      <td>379.963696</td>\n",
       "      <td>344.487808</td>\n",
       "      <td>619.031195</td>\n",
       "      <td>182901.99</td>\n",
       "    </tr>\n",
       "    <tr>\n",
       "      <th>4</th>\n",
       "      <td>376.971272</td>\n",
       "      <td>302.310718</td>\n",
       "      <td>605.118517</td>\n",
       "      <td>166187.94</td>\n",
       "    </tr>\n",
       "  </tbody>\n",
       "</table>\n",
       "</div>"
      ],
      "text/plain": [
       "    R_D_Spend  Administration  Marketing_Spend     Profit\n",
       "0  406.631529      369.997027       686.865416  192261.83\n",
       "1  403.234051      389.072731       666.257105  191792.06\n",
       "2  391.716109      318.033882       638.697534  191050.39\n",
       "3  379.963696      344.487808       619.031195  182901.99\n",
       "4  376.971272      302.310718       605.118517  166187.94"
      ]
     },
     "execution_count": 7,
     "metadata": {},
     "output_type": "execute_result"
    }
   ],
   "source": [
    "Dataset = pd.concat([Transdf,Dataset.iloc[:,3:]],axis = 1)\n",
    "Dataset.head()"
   ]
  },
  {
   "cell_type": "markdown",
   "metadata": {},
   "source": [
    "# Detecting Collinearity --- Between Columns\n",
    "\n",
    "Correlation Matrix -- using this method to get a overlook of collinearity present in the dataset"
   ]
  },
  {
   "cell_type": "code",
   "execution_count": 8,
   "metadata": {
    "ExecuteTime": {
     "end_time": "2022-01-11T19:33:28.281839Z",
     "start_time": "2022-01-11T19:33:28.264446Z"
    }
   },
   "outputs": [
    {
     "data": {
      "text/html": [
       "<div>\n",
       "<style scoped>\n",
       "    .dataframe tbody tr th:only-of-type {\n",
       "        vertical-align: middle;\n",
       "    }\n",
       "\n",
       "    .dataframe tbody tr th {\n",
       "        vertical-align: top;\n",
       "    }\n",
       "\n",
       "    .dataframe thead th {\n",
       "        text-align: right;\n",
       "    }\n",
       "</style>\n",
       "<table border=\"1\" class=\"dataframe\">\n",
       "  <thead>\n",
       "    <tr style=\"text-align: right;\">\n",
       "      <th></th>\n",
       "      <th>R_D_Spend</th>\n",
       "      <th>Administration</th>\n",
       "      <th>Marketing_Spend</th>\n",
       "      <th>Profit</th>\n",
       "    </tr>\n",
       "  </thead>\n",
       "  <tbody>\n",
       "    <tr>\n",
       "      <th>R_D_Spend</th>\n",
       "      <td>1.000000</td>\n",
       "      <td>0.263117</td>\n",
       "      <td>0.689709</td>\n",
       "      <td>0.951352</td>\n",
       "    </tr>\n",
       "    <tr>\n",
       "      <th>Administration</th>\n",
       "      <td>0.263117</td>\n",
       "      <td>1.000000</td>\n",
       "      <td>-0.008601</td>\n",
       "      <td>0.216830</td>\n",
       "    </tr>\n",
       "    <tr>\n",
       "      <th>Marketing_Spend</th>\n",
       "      <td>0.689709</td>\n",
       "      <td>-0.008601</td>\n",
       "      <td>1.000000</td>\n",
       "      <td>0.691570</td>\n",
       "    </tr>\n",
       "    <tr>\n",
       "      <th>Profit</th>\n",
       "      <td>0.951352</td>\n",
       "      <td>0.216830</td>\n",
       "      <td>0.691570</td>\n",
       "      <td>1.000000</td>\n",
       "    </tr>\n",
       "  </tbody>\n",
       "</table>\n",
       "</div>"
      ],
      "text/plain": [
       "                 R_D_Spend  Administration  Marketing_Spend    Profit\n",
       "R_D_Spend         1.000000        0.263117         0.689709  0.951352\n",
       "Administration    0.263117        1.000000        -0.008601  0.216830\n",
       "Marketing_Spend   0.689709       -0.008601         1.000000  0.691570\n",
       "Profit            0.951352        0.216830         0.691570  1.000000"
      ]
     },
     "execution_count": 8,
     "metadata": {},
     "output_type": "execute_result"
    }
   ],
   "source": [
    "#corr()\n",
    "Dataset.corr()"
   ]
  },
  {
   "cell_type": "markdown",
   "metadata": {},
   "source": [
    "Scatterplot between variables"
   ]
  },
  {
   "cell_type": "code",
   "execution_count": 9,
   "metadata": {
    "ExecuteTime": {
     "end_time": "2022-01-11T19:33:56.202272Z",
     "start_time": "2022-01-11T19:33:53.240661Z"
    }
   },
   "outputs": [
    {
     "data": {
      "text/plain": [
       "<seaborn.axisgrid.PairGrid at 0x2f94e95ecd0>"
      ]
     },
     "execution_count": 9,
     "metadata": {},
     "output_type": "execute_result"
    },
    {
     "data": {
      "image/png": "[encoded data removed]",
      "text/plain": [
       "<Figure size 720x720 with 20 Axes>"
      ]
     },
     "metadata": {},
     "output_type": "display_data"
    }
   ],
   "source": [
    "#Format the plot background and scatter plots for all the variables\n",
    "sns.set_style(style='darkgrid')\n",
    "sns.pairplot(Dataset)"
   ]
  },
  {
   "cell_type": "markdown",
   "metadata": {},
   "source": [
    "Inference:\n",
    "\n",
    "Profit & R_D_spend: 0.97 --> Strong Positive Correlation --> Useful For Model Building\n",
    "\n",
    "Profit & Administration: 0.2 --> Low Positive Correlation --> Useful For Model Building\n",
    "\n",
    "Profit & Marketing_Spend: 0.74 --> Strong Positive Correlation --> Useful For Model Building\n",
    "\n",
    "Collinearity Effect Chances R_D_spend & Marketing_Spend: 0.72 --> Strong Positive Correlation --> Can have Collinearity effect"
   ]
  },
  {
   "cell_type": "markdown",
   "metadata": {},
   "source": [
    "# Preparing a model --Initial Model"
   ]
  },
  {
   "cell_type": "markdown",
   "metadata": {},
   "source": [
    "1st Model"
   ]
  },
  {
   "cell_type": "code",
   "execution_count": 10,
   "metadata": {
    "ExecuteTime": {
     "end_time": "2022-01-11T19:34:58.959051Z",
     "start_time": "2022-01-11T19:34:58.934450Z"
    }
   },
   "outputs": [],
   "source": [
    "#Build the model --1st Model\n",
    "import statsmodels.formula.api as smf \n",
    "model = smf.ols('Profit~R_D_Spend + Administration + Marketing_Spend',data=Dataset).fit()"
   ]
  },
  {
   "cell_type": "code",
   "execution_count": 11,
   "metadata": {
    "ExecuteTime": {
     "end_time": "2022-01-11T19:35:08.077755Z",
     "start_time": "2022-01-11T19:35:08.058132Z"
    }
   },
   "outputs": [
    {
     "name": "stdout",
     "output_type": "stream",
     "text": [
      "T_values is:  \n",
      " Intercept           1.658518\n",
      "R_D_Spend          13.781821\n",
      "Administration     -0.497220\n",
      "Marketing_Spend     0.916852\n",
      "dtype: float64 \n",
      " P_values is:  \n",
      " Intercept          1.040175e-01\n",
      "R_D_Spend          6.055947e-18\n",
      "Administration     6.214024e-01\n",
      "Marketing_Spend    3.640023e-01\n",
      "dtype: float64\n"
     ]
    }
   ],
   "source": [
    "#t and p-Values\n",
    "print(\"T_values is: \",\"\\n\",model.tvalues,\"\\n\",\"P_values is: \",'\\n', model.pvalues)"
   ]
  },
  {
   "cell_type": "code",
   "execution_count": 12,
   "metadata": {
    "ExecuteTime": {
     "end_time": "2022-01-11T19:35:15.347310Z",
     "start_time": "2022-01-11T19:35:15.333732Z"
    }
   },
   "outputs": [
    {
     "data": {
      "text/plain": [
       "(0.9079571755611123, 0.9019543826629239)"
      ]
     },
     "execution_count": 12,
     "metadata": {},
     "output_type": "execute_result"
    }
   ],
   "source": [
    "#1st Model R_square.\n",
    "First_model_R2 = (model.rsquared,model.rsquared_adj)\n",
    "First_model_R2"
   ]
  },
  {
   "cell_type": "markdown",
   "metadata": {},
   "source": [
    "# Hypothesis in MLR\n",
    "B0 = Beta0 , B1 = Beta1.....B8 = Beta8\n",
    "\n",
    "H0: B1 = 0, B1--> Slope is Zero Then B1 Variable is not Useful in Predicting\n",
    "\n",
    "H1: B1 ≠ 0, B1--> Slope is not Zero B1 Variable is Useful in Predicting\n",
    "\n",
    "(Like This for All Four Betas)"
   ]
  },
  {
   "cell_type": "code",
   "execution_count": 13,
   "metadata": {
    "ExecuteTime": {
     "end_time": "2022-01-11T19:38:00.946939Z",
     "start_time": "2022-01-11T19:38:00.935941Z"
    }
   },
   "outputs": [
    {
     "name": "stdout",
     "output_type": "stream",
     "text": [
      "p_value is: 6.055946953126381e-18 , Reject H0,Slope is not Zero and B1(R_D_Spend) is Significant in Predicting\n",
      "p_value is: 0.6214023833419915 , Fail to Reject H0,Slope is Zero and B2(Administration) is Insignificant in Predicting\n",
      "p_value is: 0.3640023317607357 , Fail to Reject H0,Slope is Zero and B3(Marketing_Spend) is Insignificant in Predicting\n"
     ]
    }
   ],
   "source": [
    "\n",
    "#Hypothesis Test of MLR model\n",
    "α = 0.05  # Standard\n",
    "\n",
    "if model.pvalues[1] < α:\n",
    "    print(\"p_value is:\",model.pvalues[1],\", Reject H0,Slope is not Zero and B1(R_D_Spend) is Significant in Predicting\")\n",
    "else:\n",
    "    print(\"p_value is:\",model.pvalues[1],\", Fail to Reject H0,Slope is Zero and B1(R_D_Spend) is Insignificant in Predicting\")\n",
    "\n",
    "if model.pvalues[2] < α:\n",
    "    print(\"p_value is:\",model.pvalues[2],\", Reject H0,Slope is not Zero and B2(Administration) is Significant in Predicting\")\n",
    "else:\n",
    "    print(\"p_value is:\",model.pvalues[2],\", Fail to Reject H0,Slope is Zero and B2(Administration) is Insignificant in Predicting\")\n",
    "\n",
    "if model.pvalues[3] < α:\n",
    "    print(\"p_value is:\",model.pvalues[3],\", Reject H0,Slope is not Zero and B3(Marketing_Spend) is Significant in Predicting\")\n",
    "else:\n",
    "    print(\"p_value is:\",model.pvalues[3],\", Fail to Reject H0,Slope is Zero and B3(Marketing_Spend) is Insignificant in Predicting\")"
   ]
  },
  {
   "cell_type": "markdown",
   "metadata": {},
   "source": [
    "Inference: Through hypothesis Administration & Marketing_Spend Column is giving insignificant,But First let confirm Using VIF"
   ]
  },
  {
   "cell_type": "markdown",
   "metadata": {},
   "source": [
    "# VIF(Variable inflation Factor) -- Using this method to confirm Collinearity if it is still there or not.\n",
    "\n",
    "Checking all Y(input) Variable one by one regressing them with Eachother\n",
    "\n",
    "Industry Standard ≤ 20 for VIF Value\n"
   ]
  },
  {
   "cell_type": "code",
   "execution_count": 14,
   "metadata": {
    "ExecuteTime": {
     "end_time": "2022-01-11T19:39:13.401193Z",
     "start_time": "2022-01-11T19:39:13.351988Z"
    }
   },
   "outputs": [
    {
     "data": {
      "text/html": [
       "<div>\n",
       "<style scoped>\n",
       "    .dataframe tbody tr th:only-of-type {\n",
       "        vertical-align: middle;\n",
       "    }\n",
       "\n",
       "    .dataframe tbody tr th {\n",
       "        vertical-align: top;\n",
       "    }\n",
       "\n",
       "    .dataframe thead th {\n",
       "        text-align: right;\n",
       "    }\n",
       "</style>\n",
       "<table border=\"1\" class=\"dataframe\">\n",
       "  <thead>\n",
       "    <tr style=\"text-align: right;\">\n",
       "      <th></th>\n",
       "      <th>Variables</th>\n",
       "      <th>VIF</th>\n",
       "    </tr>\n",
       "  </thead>\n",
       "  <tbody>\n",
       "    <tr>\n",
       "      <th>0</th>\n",
       "      <td>R_D_Spend</td>\n",
       "      <td>2.212834</td>\n",
       "    </tr>\n",
       "    <tr>\n",
       "      <th>1</th>\n",
       "      <td>Administration</td>\n",
       "      <td>1.160279</td>\n",
       "    </tr>\n",
       "    <tr>\n",
       "      <th>2</th>\n",
       "      <td>Marketing_Spend</td>\n",
       "      <td>2.059791</td>\n",
       "    </tr>\n",
       "  </tbody>\n",
       "</table>\n",
       "</div>"
      ],
      "text/plain": [
       "         Variables       VIF\n",
       "0        R_D_Spend  2.212834\n",
       "1   Administration  1.160279\n",
       "2  Marketing_Spend  2.059791"
      ]
     },
     "execution_count": 14,
     "metadata": {},
     "output_type": "execute_result"
    }
   ],
   "source": [
    "rsq_RD = smf.ols('R_D_Spend~Administration+Marketing_Spend',data=Dataset).fit().rsquared  \n",
    "vif_RD = 1/(1-rsq_RD) # 16.33\n",
    "\n",
    "rsq_Adm = smf.ols('Administration~R_D_Spend+Marketing_Spend',data=Dataset).fit().rsquared  \n",
    "vif_Adm = 1/(1-rsq_Adm) # 564.98\n",
    "\n",
    "rsq_Mar = smf.ols('Marketing_Spend~R_D_Spend+Administration',data=Dataset).fit().rsquared  \n",
    "vif_Mar = 1/(1-rsq_Mar) #  564.84\n",
    "\n",
    "# Storing vif values in a data frame\n",
    "d1 = {'Variables':['R_D_Spend','Administration','Marketing_Spend'],'VIF':[vif_RD,vif_Adm,vif_Mar,]}\n",
    "Vif_frame = pd.DataFrame(d1)  \n",
    "Vif_frame"
   ]
  },
  {
   "cell_type": "markdown",
   "metadata": {},
   "source": [
    "inference: There are no collinearity between variables Since All columns VIF is less then 20."
   ]
  },
  {
   "cell_type": "markdown",
   "metadata": {},
   "source": [
    "# Model Validation Techniques -- 3 Technique\n",
    "\n",
    "Test for Normality of Residuals (Q-Q Plot) -- 1st Technique\n",
    "\n",
    "Datapoints must be inside Solid red Line or inside the 95% CI"
   ]
  },
  {
   "cell_type": "code",
   "execution_count": 15,
   "metadata": {
    "ExecuteTime": {
     "end_time": "2022-01-11T19:40:15.955142Z",
     "start_time": "2022-01-11T19:40:15.422976Z"
    }
   },
   "outputs": [
    {
     "data": {
      "image/png": "[encoded data removed]",
      "text/plain": [
       "<Figure size 432x288 with 1 Axes>"
      ]
     },
     "metadata": {},
     "output_type": "display_data"
    }
   ],
   "source": [
    "#Building the QQ Plot\n",
    "import statsmodels.api as sm\n",
    "qqplot=sm.qqplot(model.resid,line='q') # line = 45 to draw the diagnoal line\n",
    "plt.title(\"Normal Q-Q plot of residuals\")\n",
    "plt.show()"
   ]
  },
  {
   "cell_type": "code",
   "execution_count": 16,
   "metadata": {
    "ExecuteTime": {
     "end_time": "2022-01-11T19:40:23.678071Z",
     "start_time": "2022-01-11T19:40:23.670541Z"
    }
   },
   "outputs": [
    {
     "data": {
      "text/plain": [
       "[array([ 0,  1,  2,  3, 45, 46, 47], dtype=int64)]"
      ]
     },
     "execution_count": 16,
     "metadata": {},
     "output_type": "execute_result"
    }
   ],
   "source": [
    "#Getting a List of Outliers\n",
    "list(np.where(model.resid>10000))"
   ]
  },
  {
   "cell_type": "markdown",
   "metadata": {},
   "source": [
    "Inference: The Given Array is the Outlier if Residual >3000"
   ]
  },
  {
   "cell_type": "markdown",
   "metadata": {},
   "source": [
    "# Residual Plot for Homoscedasticity (Fitted VS Residuals, (Ei vsY^) ) --2nd Technique"
   ]
  },
  {
   "cell_type": "code",
   "execution_count": 17,
   "metadata": {
    "ExecuteTime": {
     "end_time": "2022-01-11T19:41:01.296611Z",
     "start_time": "2022-01-11T19:41:01.280007Z"
    }
   },
   "outputs": [],
   "source": [
    "#Defining a Function For Standardization Value.\n",
    "def get_standardized_values( vals ):\n",
    "    return (vals - vals.mean())/vals.std()"
   ]
  },
  {
   "cell_type": "code",
   "execution_count": 18,
   "metadata": {
    "ExecuteTime": {
     "end_time": "2022-01-11T19:41:09.701663Z",
     "start_time": "2022-01-11T19:41:09.464916Z"
    }
   },
   "outputs": [
    {
     "data": {
      "image/png": "[encoded data removed]",
      "text/plain": [
       "<Figure size 432x288 with 1 Axes>"
      ]
     },
     "metadata": {},
     "output_type": "display_data"
    }
   ],
   "source": [
    "plt.scatter(get_standardized_values(model.fittedvalues),get_standardized_values(model.resid))\n",
    "\n",
    "plt.title('Residual Plot')\n",
    "plt.xlabel('Standardized Fitted values')\n",
    "plt.ylabel('Standardized residual values')\n",
    "plt.show()"
   ]
  },
  {
   "cell_type": "markdown",
   "metadata": {},
   "source": [
    "Inference: Clear Pattern, Homoscedasicity"
   ]
  },
  {
   "cell_type": "markdown",
   "metadata": {},
   "source": [
    "# Residual Vs Regressors -- 3rd Technique (Ei vs Xi)"
   ]
  },
  {
   "cell_type": "code",
   "execution_count": 19,
   "metadata": {
    "ExecuteTime": {
     "end_time": "2022-01-11T19:41:49.947044Z",
     "start_time": "2022-01-11T19:41:48.825782Z"
    }
   },
   "outputs": [
    {
     "data": {
      "image/png": "[encoded data removed]",
      "text/plain": [
       "<Figure size 1080x576 with 4 Axes>"
      ]
     },
     "metadata": {},
     "output_type": "display_data"
    }
   ],
   "source": [
    "fig = plt.figure(figsize=(15,8))\n",
    "fig = sm.graphics.plot_regress_exog(model, \"R_D_Spend\", fig=fig)\n",
    "plt.show()"
   ]
  },
  {
   "cell_type": "markdown",
   "metadata": {},
   "source": [
    "Inference: CCPR Plot has Scope Which means R_D_Spend is Significant"
   ]
  },
  {
   "cell_type": "code",
   "execution_count": 20,
   "metadata": {
    "ExecuteTime": {
     "end_time": "2022-01-11T19:44:26.049146Z",
     "start_time": "2022-01-11T19:44:25.138338Z"
    },
    "scrolled": true
   },
   "outputs": [
    {
     "data": {
      "image/png": "[encoded data removed]",
      "text/plain": [
       "<Figure size 1080x576 with 4 Axes>"
      ]
     },
     "metadata": {},
     "output_type": "display_data"
    }
   ],
   "source": [
    "fig = plt.figure(figsize=(15,8))\n",
    "fig = sm.graphics.plot_regress_exog(model, \"Administration\", fig=fig)\n",
    "plt.show()"
   ]
  },
  {
   "cell_type": "markdown",
   "metadata": {},
   "source": [
    "Inference: CCPR Plot has Scope Which means Administration is Significant"
   ]
  },
  {
   "cell_type": "markdown",
   "metadata": {},
   "source": [
    "# Model Deletion Diagnostics-- (Detecting Influencers/Outliers) -- Two methods"
   ]
  },
  {
   "cell_type": "markdown",
   "metadata": {},
   "source": [
    "Cook’s Distance -- 1st Method (First Implementation)"
   ]
  },
  {
   "cell_type": "code",
   "execution_count": 21,
   "metadata": {
    "ExecuteTime": {
     "end_time": "2022-01-11T19:46:20.519834Z",
     "start_time": "2022-01-11T19:46:20.501137Z"
    }
   },
   "outputs": [],
   "source": [
    "# 1. Cook's Distance: If Cook's distance > 1, then it's an outlier\n",
    "# Get influencers using cook's distance\n",
    "model_influence = model.get_influence()   # Gives Two Value, 1st is Cook distance And 2nd is its p_values \n",
    "(c,_) = model_influence.cooks_distance "
   ]
  },
  {
   "cell_type": "code",
   "execution_count": 22,
   "metadata": {
    "ExecuteTime": {
     "end_time": "2022-01-11T19:46:33.178482Z",
     "start_time": "2022-01-11T19:46:32.933714Z"
    }
   },
   "outputs": [
    {
     "data": {
      "image/png": "[encoded data removed]",
      "text/plain": [
       "<Figure size 1440x504 with 1 Axes>"
      ]
     },
     "metadata": {},
     "output_type": "display_data"
    }
   ],
   "source": [
    "#Plot the influencers values using stem plot\n",
    "fig = plt.subplots(figsize=(20, 7))\n",
    "plt.stem(np.arange(len(Dataset)), np.round(c, 3))\n",
    "plt.xlabel('Row index')\n",
    "plt.ylabel('Cooks Distance')\n",
    "plt.show()"
   ]
  },
  {
   "cell_type": "code",
   "execution_count": 23,
   "metadata": {
    "ExecuteTime": {
     "end_time": "2022-01-11T19:46:40.610454Z",
     "start_time": "2022-01-11T19:46:40.604827Z"
    }
   },
   "outputs": [
    {
     "data": {
      "text/plain": [
       "(45, 0.34361572367750587)"
      ]
     },
     "execution_count": 23,
     "metadata": {},
     "output_type": "execute_result"
    }
   ],
   "source": [
    "#index and value of influencer where c is more than .5\n",
    "(np.argmax(c),np.max(c))"
   ]
  },
  {
   "cell_type": "markdown",
   "metadata": {},
   "source": [
    "inference: cook distance gives 45 index datapoint as the potential outliers but, let get some more no of outliers using Leverage method.\n",
    "\n",
    "High Influence points-- 2nd Method (1st implementation)\n",
    "\n",
    "After the influence Points is the outlier"
   ]
  },
  {
   "cell_type": "code",
   "execution_count": 24,
   "metadata": {
    "ExecuteTime": {
     "end_time": "2022-01-11T19:47:17.999294Z",
     "start_time": "2022-01-11T19:47:17.733289Z"
    }
   },
   "outputs": [
    {
     "data": {
      "image/png": "[encoded data removed]",
      "text/plain": [
       "<Figure size 432x288 with 1 Axes>"
      ]
     },
     "metadata": {},
     "output_type": "display_data"
    }
   ],
   "source": [
    "from statsmodels.graphics.regressionplots import influence_plot\n",
    "influence_plot(model)\n",
    "plt.show()"
   ]
  },
  {
   "cell_type": "code",
   "execution_count": 25,
   "metadata": {
    "ExecuteTime": {
     "end_time": "2022-01-11T19:47:26.101293Z",
     "start_time": "2022-01-11T19:47:26.096307Z"
    }
   },
   "outputs": [
    {
     "data": {
      "text/plain": [
       "0.30000000000000004"
      ]
     },
     "execution_count": 25,
     "metadata": {},
     "output_type": "execute_result"
    }
   ],
   "source": [
    "# 3*((k + 1)/n) -- Formula to determine Influnce / Leverage point\n",
    "k = Dataset.shape[1]   # K = no of rows\n",
    "n = Dataset.shape[0]   # n = no of columns\n",
    "leverage = 3*((k + 1)/n)\n",
    "\n",
    "leverage "
   ]
  },
  {
   "cell_type": "markdown",
   "metadata": {},
   "source": [
    "Inference: After 0.30 any Datapoint is a outlier, so datapoint with index 45 "
   ]
  },
  {
   "cell_type": "markdown",
   "metadata": {},
   "source": [
    "# Comparing the Extreme Observations (Outlier) with Other records in the dataset"
   ]
  },
  {
   "cell_type": "code",
   "execution_count": 26,
   "metadata": {
    "ExecuteTime": {
     "end_time": "2022-01-11T19:48:08.037666Z",
     "start_time": "2022-01-11T19:48:08.021970Z"
    }
   },
   "outputs": [
    {
     "data": {
      "text/html": [
       "<div>\n",
       "<style scoped>\n",
       "    .dataframe tbody tr th:only-of-type {\n",
       "        vertical-align: middle;\n",
       "    }\n",
       "\n",
       "    .dataframe tbody tr th {\n",
       "        vertical-align: top;\n",
       "    }\n",
       "\n",
       "    .dataframe thead th {\n",
       "        text-align: right;\n",
       "    }\n",
       "</style>\n",
       "<table border=\"1\" class=\"dataframe\">\n",
       "  <thead>\n",
       "    <tr style=\"text-align: right;\">\n",
       "      <th></th>\n",
       "      <th>R_D_Spend</th>\n",
       "      <th>Administration</th>\n",
       "      <th>Marketing_Spend</th>\n",
       "      <th>Profit</th>\n",
       "    </tr>\n",
       "  </thead>\n",
       "  <tbody>\n",
       "    <tr>\n",
       "      <th>45</th>\n",
       "      <td>31.626413</td>\n",
       "      <td>352.353572</td>\n",
       "      <td>43.634046</td>\n",
       "      <td>64926.08</td>\n",
       "    </tr>\n",
       "  </tbody>\n",
       "</table>\n",
       "</div>"
      ],
      "text/plain": [
       "    R_D_Spend  Administration  Marketing_Spend    Profit\n",
       "45  31.626413      352.353572        43.634046  64926.08"
      ]
     },
     "execution_count": 26,
     "metadata": {},
     "output_type": "execute_result"
    }
   ],
   "source": [
    "# Getting the Values of observation From Cook Method\n",
    "Dataset[Dataset.index.isin([45])]"
   ]
  },
  {
   "cell_type": "code",
   "execution_count": 27,
   "metadata": {
    "ExecuteTime": {
     "end_time": "2022-01-11T19:48:15.991819Z",
     "start_time": "2022-01-11T19:48:15.969720Z"
    }
   },
   "outputs": [
    {
     "data": {
      "text/html": [
       "<div>\n",
       "<style scoped>\n",
       "    .dataframe tbody tr th:only-of-type {\n",
       "        vertical-align: middle;\n",
       "    }\n",
       "\n",
       "    .dataframe tbody tr th {\n",
       "        vertical-align: top;\n",
       "    }\n",
       "\n",
       "    .dataframe thead th {\n",
       "        text-align: right;\n",
       "    }\n",
       "</style>\n",
       "<table border=\"1\" class=\"dataframe\">\n",
       "  <thead>\n",
       "    <tr style=\"text-align: right;\">\n",
       "      <th></th>\n",
       "      <th>R_D_Spend</th>\n",
       "      <th>Administration</th>\n",
       "      <th>Marketing_Spend</th>\n",
       "      <th>Profit</th>\n",
       "    </tr>\n",
       "  </thead>\n",
       "  <tbody>\n",
       "    <tr>\n",
       "      <th>0</th>\n",
       "      <td>406.631529</td>\n",
       "      <td>369.997027</td>\n",
       "      <td>686.865416</td>\n",
       "      <td>192261.83</td>\n",
       "    </tr>\n",
       "    <tr>\n",
       "      <th>1</th>\n",
       "      <td>403.234051</td>\n",
       "      <td>389.072731</td>\n",
       "      <td>666.257105</td>\n",
       "      <td>191792.06</td>\n",
       "    </tr>\n",
       "    <tr>\n",
       "      <th>2</th>\n",
       "      <td>391.716109</td>\n",
       "      <td>318.033882</td>\n",
       "      <td>638.697534</td>\n",
       "      <td>191050.39</td>\n",
       "    </tr>\n",
       "    <tr>\n",
       "      <th>3</th>\n",
       "      <td>379.963696</td>\n",
       "      <td>344.487808</td>\n",
       "      <td>619.031195</td>\n",
       "      <td>182901.99</td>\n",
       "    </tr>\n",
       "    <tr>\n",
       "      <th>4</th>\n",
       "      <td>376.971272</td>\n",
       "      <td>302.310718</td>\n",
       "      <td>605.118517</td>\n",
       "      <td>166187.94</td>\n",
       "    </tr>\n",
       "  </tbody>\n",
       "</table>\n",
       "</div>"
      ],
      "text/plain": [
       "    R_D_Spend  Administration  Marketing_Spend     Profit\n",
       "0  406.631529      369.997027       686.865416  192261.83\n",
       "1  403.234051      389.072731       666.257105  191792.06\n",
       "2  391.716109      318.033882       638.697534  191050.39\n",
       "3  379.963696      344.487808       619.031195  182901.99\n",
       "4  376.971272      302.310718       605.118517  166187.94"
      ]
     },
     "execution_count": 27,
     "metadata": {},
     "output_type": "execute_result"
    }
   ],
   "source": [
    "#See the differences in R_D_Spend and other variable values\n",
    "Dataset.head()"
   ]
  },
  {
   "cell_type": "markdown",
   "metadata": {},
   "source": [
    "Inference: As We can see observation are Extreme, as compared to other record in the Dataset."
   ]
  },
  {
   "cell_type": "markdown",
   "metadata": {},
   "source": [
    "# Improving the model --Deleting the outlier point"
   ]
  },
  {
   "cell_type": "code",
   "execution_count": 28,
   "metadata": {
    "ExecuteTime": {
     "end_time": "2022-01-11T19:48:57.511156Z",
     "start_time": "2022-01-11T19:48:57.499158Z"
    }
   },
   "outputs": [],
   "source": [
    "#Discard the data points which are influencers and reasign the row number (reset_index())\n",
    "Dataset1=Dataset.drop(Dataset.index[[45]],axis=0).reset_index()"
   ]
  },
  {
   "cell_type": "code",
   "execution_count": 29,
   "metadata": {
    "ExecuteTime": {
     "end_time": "2022-01-11T19:49:05.085947Z",
     "start_time": "2022-01-11T19:49:05.067048Z"
    }
   },
   "outputs": [
    {
     "data": {
      "text/html": [
       "<div>\n",
       "<style scoped>\n",
       "    .dataframe tbody tr th:only-of-type {\n",
       "        vertical-align: middle;\n",
       "    }\n",
       "\n",
       "    .dataframe tbody tr th {\n",
       "        vertical-align: top;\n",
       "    }\n",
       "\n",
       "    .dataframe thead th {\n",
       "        text-align: right;\n",
       "    }\n",
       "</style>\n",
       "<table border=\"1\" class=\"dataframe\">\n",
       "  <thead>\n",
       "    <tr style=\"text-align: right;\">\n",
       "      <th></th>\n",
       "      <th>R_D_Spend</th>\n",
       "      <th>Administration</th>\n",
       "      <th>Marketing_Spend</th>\n",
       "      <th>Profit</th>\n",
       "    </tr>\n",
       "  </thead>\n",
       "  <tbody>\n",
       "    <tr>\n",
       "      <th>0</th>\n",
       "      <td>406.631529</td>\n",
       "      <td>369.997027</td>\n",
       "      <td>686.865416</td>\n",
       "      <td>192261.83</td>\n",
       "    </tr>\n",
       "    <tr>\n",
       "      <th>1</th>\n",
       "      <td>403.234051</td>\n",
       "      <td>389.072731</td>\n",
       "      <td>666.257105</td>\n",
       "      <td>191792.06</td>\n",
       "    </tr>\n",
       "    <tr>\n",
       "      <th>2</th>\n",
       "      <td>391.716109</td>\n",
       "      <td>318.033882</td>\n",
       "      <td>638.697534</td>\n",
       "      <td>191050.39</td>\n",
       "    </tr>\n",
       "    <tr>\n",
       "      <th>3</th>\n",
       "      <td>379.963696</td>\n",
       "      <td>344.487808</td>\n",
       "      <td>619.031195</td>\n",
       "      <td>182901.99</td>\n",
       "    </tr>\n",
       "    <tr>\n",
       "      <th>4</th>\n",
       "      <td>376.971272</td>\n",
       "      <td>302.310718</td>\n",
       "      <td>605.118517</td>\n",
       "      <td>166187.94</td>\n",
       "    </tr>\n",
       "  </tbody>\n",
       "</table>\n",
       "</div>"
      ],
      "text/plain": [
       "    R_D_Spend  Administration  Marketing_Spend     Profit\n",
       "0  406.631529      369.997027       686.865416  192261.83\n",
       "1  403.234051      389.072731       666.257105  191792.06\n",
       "2  391.716109      318.033882       638.697534  191050.39\n",
       "3  379.963696      344.487808       619.031195  182901.99\n",
       "4  376.971272      302.310718       605.118517  166187.94"
      ]
     },
     "execution_count": 29,
     "metadata": {},
     "output_type": "execute_result"
    }
   ],
   "source": [
    "#Drop the original index\n",
    "Dataset1=Dataset1.drop(['index'],axis=1)\n",
    "Dataset1.head()"
   ]
  },
  {
   "cell_type": "markdown",
   "metadata": {},
   "source": [
    "# Build New Model after 1st Implementation of Cooks Distance And Leverage"
   ]
  },
  {
   "cell_type": "markdown",
   "metadata": {},
   "source": [
    "2nd Model"
   ]
  },
  {
   "cell_type": "code",
   "execution_count": 30,
   "metadata": {
    "ExecuteTime": {
     "end_time": "2022-01-11T19:51:20.421485Z",
     "start_time": "2022-01-11T19:51:20.393059Z"
    }
   },
   "outputs": [],
   "source": [
    "#Build the model --2nd Model\n",
    "import statsmodels.formula.api as smf \n",
    "model = smf.ols('Profit~R_D_Spend+Administration+Marketing_Spend',data=Dataset1).fit()"
   ]
  },
  {
   "cell_type": "code",
   "execution_count": 31,
   "metadata": {
    "ExecuteTime": {
     "end_time": "2022-01-11T19:51:26.822384Z",
     "start_time": "2022-01-11T19:51:26.809382Z"
    }
   },
   "outputs": [
    {
     "data": {
      "text/plain": [
       "(0.9233474281048986, 0.9182372566452252)"
      ]
     },
     "execution_count": 31,
     "metadata": {},
     "output_type": "execute_result"
    }
   ],
   "source": [
    "#2nd Model R_square.\n",
    "Second_model_R2 = (model.rsquared,model.rsquared_adj)\n",
    "Second_model_R2"
   ]
  },
  {
   "cell_type": "code",
   "execution_count": 32,
   "metadata": {
    "ExecuteTime": {
     "end_time": "2022-01-11T19:51:39.296798Z",
     "start_time": "2022-01-11T19:51:39.289594Z"
    }
   },
   "outputs": [
    {
     "name": "stdout",
     "output_type": "stream",
     "text": [
      "2nd Model is Better as its R2 0.9233474281048986 is more then 1st Model R2 0.9079571755611123\n"
     ]
    }
   ],
   "source": [
    "#Checking Adj_R2 After Dropping Doors & cc columns\n",
    "if First_model_R2[0]<Second_model_R2[0]:\n",
    "    print(\"2nd Model is Better as its R2\",Second_model_R2[0],\"is more then 1st Model R2\",First_model_R2[0])\n",
    "else:\n",
    "    print(\"1st Model is Better as its R2\",First_model_R2[0],\"is more then 2nd Model R2\",Second_model_R2[0])"
   ]
  },
  {
   "cell_type": "markdown",
   "metadata": {},
   "source": [
    "inference: R_squared of 2nd model is more than R_squared of 1st model, so 2nd model is better then 1st model"
   ]
  },
  {
   "cell_type": "markdown",
   "metadata": {},
   "source": [
    "# Auto Model Deletion Diagnostics To Get Final Model - Using while loop\n",
    "\n",
    "--Gives A List of R-Squares"
   ]
  },
  {
   "cell_type": "code",
   "execution_count": 33,
   "metadata": {
    "ExecuteTime": {
     "end_time": "2022-01-11T19:52:43.046367Z",
     "start_time": "2022-01-11T19:52:42.506045Z"
    }
   },
   "outputs": [
    {
     "name": "stdout",
     "output_type": "stream",
     "text": [
      "Thus model accuracy is improved to 0.9342693735042403\n",
      "Thus model accuracy is improved to 0.9336032824159293\n",
      "Thus model accuracy is improved to 0.9343558322420813\n",
      "Thus model accuracy is improved to 0.9363821593197081\n",
      "Thus model accuracy is improved to 0.9405326316783656\n",
      "Thus model accuracy is improved to 0.9314742078600721\n",
      "Thus model accuracy is improved to 0.9341507447119931\n",
      "Thus model accuracy is improved to 0.94029739348222\n",
      "Thus model accuracy is improved to 0.9410672657530073\n",
      "Thus model accuracy is improved to 0.9397362092642357\n",
      "Thus model accuracy is improved to 0.9370958577428663\n",
      "Thus model accuracy is improved to 0.9325501045220524\n",
      "Thus model accuracy is improved to 0.9362292833016027\n",
      "Thus model accuracy is improved to 0.9413122761372146\n",
      "Thus model accuracy is improved to 0.940288646168237\n",
      "Thus model accuracy is improved to 0.9457546259835213\n",
      "Thus model accuracy is improved to 0.9500674474521191\n",
      "Thus model accuracy is improved to 0.9588898321842508\n",
      "Thus model accuracy is improved to 0.96348732378809\n",
      "Thus model accuracy is improved to 0.9675319563142892\n",
      "Thus model accuracy is improved to 0.970648850548104\n",
      "Thus model accuracy is improved to 0.9667988764061342\n",
      "Thus model accuracy is improved to 0.9738535489321759\n",
      "Thus model accuracy is improved to 0.9767814007927862\n",
      "Thus model accuracy is improved to 0.9805242525262755\n",
      "Thus model accuracy is improved to 0.9816387624266452\n",
      "Thus model accuracy is improved to 0.9856210417845255\n",
      "Thus model accuracy is improved to 0.98675977437067\n",
      "Thus model accuracy is improved to 0.9891389395595201\n",
      "Thus model accuracy is improved to 0.989832762546122\n",
      "Thus model accuracy is improved to 0.9936102440478705\n",
      "Thus model accuracy is improved to 0.9954397087548057\n"
     ]
    }
   ],
   "source": [
    "while model.rsquared < 0.99:\n",
    "    for c in [np.max(c)>1]:\n",
    "        model = smf.ols('Profit~R_D_Spend+Administration+Marketing_Spend',data=Dataset1).fit()\n",
    "        (c,_)=model.get_influence().cooks_distance\n",
    "        c\n",
    "        np.argmax(c) , np.max(c)\n",
    "        Dataset1=Dataset1.drop(Dataset1.index[[np.argmax(c)]],axis=0).reset_index(drop=True)\n",
    "        Dataset\n",
    "    else:\n",
    "        final_model= smf.ols('Profit~R_D_Spend+Administration+Marketing_Spend',data=Dataset1).fit()\n",
    "        final_model.rsquared , final_model.aic\n",
    "        print(\"Thus model accuracy is improved to\",final_model.rsquared)"
   ]
  },
  {
   "cell_type": "markdown",
   "metadata": {},
   "source": [
    "predicting for new data"
   ]
  },
  {
   "cell_type": "code",
   "execution_count": 34,
   "metadata": {
    "ExecuteTime": {
     "end_time": "2022-01-11T19:53:14.407067Z",
     "start_time": "2022-01-11T19:53:14.383879Z"
    }
   },
   "outputs": [
    {
     "data": {
      "text/html": [
       "<div>\n",
       "<style scoped>\n",
       "    .dataframe tbody tr th:only-of-type {\n",
       "        vertical-align: middle;\n",
       "    }\n",
       "\n",
       "    .dataframe tbody tr th {\n",
       "        vertical-align: top;\n",
       "    }\n",
       "\n",
       "    .dataframe thead th {\n",
       "        text-align: right;\n",
       "    }\n",
       "</style>\n",
       "<table border=\"1\" class=\"dataframe\">\n",
       "  <thead>\n",
       "    <tr style=\"text-align: right;\">\n",
       "      <th></th>\n",
       "      <th>R_D_Spend</th>\n",
       "      <th>Administration</th>\n",
       "      <th>Marketing_Spend</th>\n",
       "    </tr>\n",
       "  </thead>\n",
       "  <tbody>\n",
       "    <tr>\n",
       "      <th>1</th>\n",
       "      <td>154000.5</td>\n",
       "      <td>150340.55</td>\n",
       "      <td>383600.78</td>\n",
       "    </tr>\n",
       "  </tbody>\n",
       "</table>\n",
       "</div>"
      ],
      "text/plain": [
       "   R_D_Spend  Administration  Marketing_Spend\n",
       "1   154000.5       150340.55        383600.78"
      ]
     },
     "execution_count": 34,
     "metadata": {},
     "output_type": "execute_result"
    }
   ],
   "source": [
    "#New data for prediction\n",
    "new_data=pd.DataFrame({'R_D_Spend':154000.50,\"Administration\":150340.55,\"Marketing_Spend\":383600.78},index=[1])\n",
    "new_data"
   ]
  },
  {
   "cell_type": "code",
   "execution_count": 35,
   "metadata": {
    "ExecuteTime": {
     "end_time": "2022-01-11T19:53:21.809899Z",
     "start_time": "2022-01-11T19:53:21.791888Z"
    }
   },
   "outputs": [],
   "source": [
    "# Performing sqrt Transformation on X \n",
    "new_data = np.sqrt(new_data)"
   ]
  },
  {
   "cell_type": "code",
   "execution_count": 36,
   "metadata": {
    "ExecuteTime": {
     "end_time": "2022-01-11T19:53:27.825822Z",
     "start_time": "2022-01-11T19:53:27.810701Z"
    }
   },
   "outputs": [
    {
     "data": {
      "text/plain": [
       "1    171989.414248\n",
       "dtype: float64"
      ]
     },
     "execution_count": 36,
     "metadata": {},
     "output_type": "execute_result"
    }
   ],
   "source": [
    "#Predicting For New Data/Record\n",
    "final_model.predict(new_data)"
   ]
  },
  {
   "cell_type": "markdown",
   "metadata": {},
   "source": [
    "Inference: Profit Will be 171989.414248 for the given new record/Datapoint"
   ]
  },
  {
   "cell_type": "code",
   "execution_count": 37,
   "metadata": {
    "ExecuteTime": {
     "end_time": "2022-01-11T19:53:47.380569Z",
     "start_time": "2022-01-11T19:53:47.368356Z"
    }
   },
   "outputs": [
    {
     "data": {
      "text/plain": [
       "Intercept         -28900.060935\n",
       "R_D_Spend            307.892845\n",
       "Administration        47.279877\n",
       "Marketing_Spend       99.670135\n",
       "dtype: float64"
      ]
     },
     "execution_count": 37,
     "metadata": {},
     "output_type": "execute_result"
    }
   ],
   "source": [
    "#Coefficients\n",
    "final_model.params"
   ]
  },
  {
   "cell_type": "markdown",
   "metadata": {},
   "source": [
    "Inference: Intercept is B0 = -28900.060935, R_D_Spend is B1 = 307.892845, Administration is B2 = 47.279877, Marketing_Spend is B3 = 99.670135"
   ]
  },
  {
   "cell_type": "code",
   "execution_count": 38,
   "metadata": {
    "ExecuteTime": {
     "end_time": "2022-01-11T19:54:52.310854Z",
     "start_time": "2022-01-11T19:54:52.294083Z"
    }
   },
   "outputs": [],
   "source": [
    "#### Manually  Calculating and Checking the regression equation of the  Final model\n",
    "\n",
    "# Y = B0 + B1X1 + B2X2 + B3X3\n",
    "\n",
    "#From Model\n",
    "# B0 = -28900.060935\n",
    "# B1 = 307.892845\n",
    "# B2 = -47.279877\n",
    "# B3 = 99.670135"
   ]
  },
  {
   "cell_type": "code",
   "execution_count": 39,
   "metadata": {
    "ExecuteTime": {
     "end_time": "2022-01-11T19:54:58.437619Z",
     "start_time": "2022-01-11T19:54:58.426619Z"
    }
   },
   "outputs": [
    {
     "data": {
      "text/plain": [
       "171989.41447979247"
      ]
     },
     "execution_count": 39,
     "metadata": {},
     "output_type": "execute_result"
    }
   ],
   "source": [
    "#Calculating the New_data Values Manually\n",
    "\n",
    "Y = (-28900.060935) + (307.892845*np.sqrt(154000.5)) + (47.279877*np.sqrt(150340.55)) + (99.670135*np.sqrt(383600.78))\n",
    "\n",
    "Y"
   ]
  },
  {
   "cell_type": "markdown",
   "metadata": {},
   "source": [
    "Inference: Manually Also Its gives the approx the Same results as the Regression equation built by the Model"
   ]
  },
  {
   "cell_type": "markdown",
   "metadata": {},
   "source": [
    "# Creating a DataFrame / Table of R_Squared"
   ]
  },
  {
   "cell_type": "code",
   "execution_count": 40,
   "metadata": {
    "ExecuteTime": {
     "end_time": "2022-01-11T19:55:42.156423Z",
     "start_time": "2022-01-11T19:55:42.144308Z"
    }
   },
   "outputs": [
    {
     "data": {
      "text/html": [
       "<div>\n",
       "<style scoped>\n",
       "    .dataframe tbody tr th:only-of-type {\n",
       "        vertical-align: middle;\n",
       "    }\n",
       "\n",
       "    .dataframe tbody tr th {\n",
       "        vertical-align: top;\n",
       "    }\n",
       "\n",
       "    .dataframe thead th {\n",
       "        text-align: right;\n",
       "    }\n",
       "</style>\n",
       "<table border=\"1\" class=\"dataframe\">\n",
       "  <thead>\n",
       "    <tr style=\"text-align: right;\">\n",
       "      <th></th>\n",
       "      <th>Prep_Models</th>\n",
       "      <th>Rsquared</th>\n",
       "    </tr>\n",
       "  </thead>\n",
       "  <tbody>\n",
       "    <tr>\n",
       "      <th>0</th>\n",
       "      <td>First_Model</td>\n",
       "      <td>0.907957</td>\n",
       "    </tr>\n",
       "    <tr>\n",
       "      <th>1</th>\n",
       "      <td>Second_Model</td>\n",
       "      <td>0.923347</td>\n",
       "    </tr>\n",
       "    <tr>\n",
       "      <th>2</th>\n",
       "      <td>Model</td>\n",
       "      <td>0.993610</td>\n",
       "    </tr>\n",
       "    <tr>\n",
       "      <th>3</th>\n",
       "      <td>Final_Model</td>\n",
       "      <td>0.995440</td>\n",
       "    </tr>\n",
       "  </tbody>\n",
       "</table>\n",
       "</div>"
      ],
      "text/plain": [
       "    Prep_Models  Rsquared\n",
       "0   First_Model  0.907957\n",
       "1  Second_Model  0.923347\n",
       "2         Model  0.993610\n",
       "3   Final_Model  0.995440"
      ]
     },
     "execution_count": 40,
     "metadata": {},
     "output_type": "execute_result"
    }
   ],
   "source": [
    "R2={'Prep_Models':['First_Model','Second_Model','Model','Final_Model'],'Rsquared':[First_model_R2[0],Second_model_R2[0],model.rsquared,final_model.rsquared]}\n",
    "R2_table=pd.DataFrame(R2)\n",
    "R2_table"
   ]
  },
  {
   "cell_type": "code",
   "execution_count": null,
   "metadata": {},
   "outputs": [],
   "source": []
  }
 ],
 "metadata": {
  "kernelspec": {
   "display_name": "Python 3",
   "language": "python",
   "name": "python3"
  },
  "language_info": {
   "codemirror_mode": {
    "name": "ipython",
    "version": 3
   },
   "file_extension": ".py",
   "mimetype": "text/x-python",
   "name": "python",
   "nbconvert_exporter": "python",
   "pygments_lexer": "ipython3",
   "version": "3.8.5"
  },
  "toc": {
   "base_numbering": 1,
   "nav_menu": {},
   "number_sections": true,
   "sideBar": true,
   "skip_h1_title": false,
   "title_cell": "Table of Contents",
   "title_sidebar": "Contents",
   "toc_cell": false,
   "toc_position": {},
   "toc_section_display": true,
   "toc_window_display": false
  },
  "varInspector": {
   "cols": {
    "lenName": 16,
    "lenType": 16,
    "lenVar": 40
   },
   "kernels_config": {
    "python": {
     "delete_cmd_postfix": "",
     "delete_cmd_prefix": "del ",
     "library": "var_list.py",
     "varRefreshCmd": "print(var_dic_list())"
    },
    "r": {
     "delete_cmd_postfix": ") ",
     "delete_cmd_prefix": "rm(",
     "library": "var_list.r",
     "varRefreshCmd": "cat(var_dic_list()) "
    }
   },
   "types_to_exclude": [
    "module",
    "function",
    "builtin_function_or_method",
    "instance",
    "_Feature"
   ],
   "window_display": false
  }
 },
 "nbformat": 4,
 "nbformat_minor": 4
}
