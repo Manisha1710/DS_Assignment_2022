{
 "cells": [
  {
   "cell_type": "code",
   "execution_count": 4,
   "metadata": {
    "ExecuteTime": {
     "end_time": "2022-01-04T18:01:57.955693Z",
     "start_time": "2022-01-04T18:01:54.758166Z"
    }
   },
   "outputs": [],
   "source": [
    "import numpy as np\n",
    "import pandas as pd \n",
    "import matplotlib.pyplot as plt\n",
    "import seaborn as sns\n",
    "%matplotlib inline\n",
    "import warnings\n",
    "warnings.filterwarnings('ignore')\n",
    "from scipy import stats\n"
   ]
  },
  {
   "cell_type": "markdown",
   "metadata": {},
   "source": [
    "# SET1"
   ]
  },
  {
   "cell_type": "code",
   "execution_count": 4,
   "metadata": {
    "ExecuteTime": {
     "end_time": "2022-01-04T10:59:57.497775Z",
     "start_time": "2022-01-04T10:59:57.457627Z"
    }
   },
   "outputs": [],
   "source": [
    "#Q1=Look at the data given below. Plot the data, find the outliers and find out  μ,σ,σ^2\n",
    "# All given values in % hence converting into normal float values.\n",
    "Data1=pd.read_csv(\"C:/Users/MANISHA/Desktop/Company data.csv\")"
   ]
  },
  {
   "cell_type": "code",
   "execution_count": 5,
   "metadata": {
    "ExecuteTime": {
     "end_time": "2022-01-04T11:00:07.786638Z",
     "start_time": "2022-01-04T11:00:07.731740Z"
    }
   },
   "outputs": [
    {
     "data": {
      "text/html": [
       "<div>\n",
       "<style scoped>\n",
       "    .dataframe tbody tr th:only-of-type {\n",
       "        vertical-align: middle;\n",
       "    }\n",
       "\n",
       "    .dataframe tbody tr th {\n",
       "        vertical-align: top;\n",
       "    }\n",
       "\n",
       "    .dataframe thead th {\n",
       "        text-align: right;\n",
       "    }\n",
       "</style>\n",
       "<table border=\"1\" class=\"dataframe\">\n",
       "  <thead>\n",
       "    <tr style=\"text-align: right;\">\n",
       "      <th></th>\n",
       "      <th>Name of company</th>\n",
       "      <th>Measure X</th>\n",
       "      <th>New Measure of X</th>\n",
       "    </tr>\n",
       "  </thead>\n",
       "  <tbody>\n",
       "    <tr>\n",
       "      <th>0</th>\n",
       "      <td>Allied Signal</td>\n",
       "      <td>24.23%</td>\n",
       "      <td>0.24</td>\n",
       "    </tr>\n",
       "    <tr>\n",
       "      <th>1</th>\n",
       "      <td>Bankers Trust</td>\n",
       "      <td>25.53%</td>\n",
       "      <td>0.26</td>\n",
       "    </tr>\n",
       "    <tr>\n",
       "      <th>2</th>\n",
       "      <td>General Mills</td>\n",
       "      <td>25.41%</td>\n",
       "      <td>0.25</td>\n",
       "    </tr>\n",
       "    <tr>\n",
       "      <th>3</th>\n",
       "      <td>ITT Industries</td>\n",
       "      <td>24.14%</td>\n",
       "      <td>0.24</td>\n",
       "    </tr>\n",
       "    <tr>\n",
       "      <th>4</th>\n",
       "      <td>J.P.Morgan &amp; Co.</td>\n",
       "      <td>29.62%</td>\n",
       "      <td>0.30</td>\n",
       "    </tr>\n",
       "  </tbody>\n",
       "</table>\n",
       "</div>"
      ],
      "text/plain": [
       "    Name of company Measure X  New Measure of X\n",
       "0     Allied Signal    24.23%              0.24\n",
       "1     Bankers Trust    25.53%              0.26\n",
       "2     General Mills    25.41%              0.25\n",
       "3    ITT Industries    24.14%              0.24\n",
       "4  J.P.Morgan & Co.    29.62%              0.30"
      ]
     },
     "execution_count": 5,
     "metadata": {},
     "output_type": "execute_result"
    }
   ],
   "source": [
    "Data1.head()"
   ]
  },
  {
   "cell_type": "code",
   "execution_count": 6,
   "metadata": {
    "ExecuteTime": {
     "end_time": "2022-01-04T11:01:00.700773Z",
     "start_time": "2022-01-04T11:01:00.636845Z"
    }
   },
   "outputs": [
    {
     "data": {
      "text/html": [
       "<div>\n",
       "<style scoped>\n",
       "    .dataframe tbody tr th:only-of-type {\n",
       "        vertical-align: middle;\n",
       "    }\n",
       "\n",
       "    .dataframe tbody tr th {\n",
       "        vertical-align: top;\n",
       "    }\n",
       "\n",
       "    .dataframe thead th {\n",
       "        text-align: right;\n",
       "    }\n",
       "</style>\n",
       "<table border=\"1\" class=\"dataframe\">\n",
       "  <thead>\n",
       "    <tr style=\"text-align: right;\">\n",
       "      <th></th>\n",
       "      <th>New Measure of X</th>\n",
       "    </tr>\n",
       "  </thead>\n",
       "  <tbody>\n",
       "    <tr>\n",
       "      <th>count</th>\n",
       "      <td>15.000000</td>\n",
       "    </tr>\n",
       "    <tr>\n",
       "      <th>mean</th>\n",
       "      <td>0.332000</td>\n",
       "    </tr>\n",
       "    <tr>\n",
       "      <th>std</th>\n",
       "      <td>0.168531</td>\n",
       "    </tr>\n",
       "    <tr>\n",
       "      <th>min</th>\n",
       "      <td>0.240000</td>\n",
       "    </tr>\n",
       "    <tr>\n",
       "      <th>25%</th>\n",
       "      <td>0.255000</td>\n",
       "    </tr>\n",
       "    <tr>\n",
       "      <th>50%</th>\n",
       "      <td>0.270000</td>\n",
       "    </tr>\n",
       "    <tr>\n",
       "      <th>75%</th>\n",
       "      <td>0.340000</td>\n",
       "    </tr>\n",
       "    <tr>\n",
       "      <th>max</th>\n",
       "      <td>0.910000</td>\n",
       "    </tr>\n",
       "  </tbody>\n",
       "</table>\n",
       "</div>"
      ],
      "text/plain": [
       "       New Measure of X\n",
       "count         15.000000\n",
       "mean           0.332000\n",
       "std            0.168531\n",
       "min            0.240000\n",
       "25%            0.255000\n",
       "50%            0.270000\n",
       "75%            0.340000\n",
       "max            0.910000"
      ]
     },
     "execution_count": 6,
     "metadata": {},
     "output_type": "execute_result"
    }
   ],
   "source": [
    "# find out mean,vairance and standard deviation\n",
    "Data1.describe()"
   ]
  },
  {
   "cell_type": "code",
   "execution_count": 9,
   "metadata": {
    "ExecuteTime": {
     "end_time": "2022-01-04T11:03:21.888933Z",
     "start_time": "2022-01-04T11:03:21.864924Z"
    }
   },
   "outputs": [
    {
     "name": "stdout",
     "output_type": "stream",
     "text": [
      "the mean of this company data is:  0.332\n",
      "the variance of this company data is:  0.028402857142857153\n",
      "the standard deviation of this company data is:  0.16853147226217766\n"
     ]
    }
   ],
   "source": [
    "print('the mean of this company data is: ',Data1['New Measure of X'].mean())\n",
    "print('the variance of this company data is: ',Data1['New Measure of X'].var())\n",
    "print('the standard deviation of this company data is: ',Data1['New Measure of X'].std())"
   ]
  },
  {
   "cell_type": "code",
   "execution_count": 10,
   "metadata": {
    "ExecuteTime": {
     "end_time": "2022-01-04T11:05:21.383757Z",
     "start_time": "2022-01-04T11:05:21.102731Z"
    }
   },
   "outputs": [
    {
     "data": {
      "text/plain": [
       "<AxesSubplot:xlabel='New Measure of X'>"
      ]
     },
     "execution_count": 10,
     "metadata": {},
     "output_type": "execute_result"
    },
    {
     "data": {
      "image/png": "[encoded data removed]",
      "text/plain": [
       "<Figure size 432x288 with 1 Axes>"
      ]
     },
     "metadata": {
      "needs_background": "light"
     },
     "output_type": "display_data"
    }
   ],
   "source": [
    "# computing outlier for given company data\n",
    "sns.boxplot(Data1['New Measure of X'])"
   ]
  },
  {
   "cell_type": "code",
   "execution_count": 12,
   "metadata": {
    "ExecuteTime": {
     "end_time": "2022-01-04T11:13:42.658620Z",
     "start_time": "2022-01-04T11:13:42.634535Z"
    }
   },
   "outputs": [
    {
     "name": "stdout",
     "output_type": "stream",
     "text": [
      "The good measure of risk involved is: 0.006666666666666666\n"
     ]
    }
   ],
   "source": [
    "#Q5.What is the good measure of the risk involved in a venture of this kind? Compute this measure\n",
    "# Measuring the variability of the given probability to determine the risk involved in a venture of this kind.\n",
    "P= pd.Series([0.1,0.1,0.2,0.2,0.3,0.1])\n",
    "Var=P.var()\n",
    "print('The good measure of risk involved is:',Var)"
   ]
  },
  {
   "cell_type": "markdown",
   "metadata": {},
   "source": [
    "# Set2"
   ]
  },
  {
   "cell_type": "code",
   "execution_count": 15,
   "metadata": {
    "ExecuteTime": {
     "end_time": "2022-01-04T11:25:27.252225Z",
     "start_time": "2022-01-04T11:25:27.205196Z"
    }
   },
   "outputs": [
    {
     "name": "stdout",
     "output_type": "stream",
     "text": [
      "The probability that the service manager cannot meet his commitment: 0.26598552904870054\n"
     ]
    }
   ],
   "source": [
    "#Q1.The time required for servicing transmissions is normally distributed with mean = 45 minutes and sigma = 8 minutes. \n",
    "#The service manager plans to have work begin on the transmission of a customer’s car 10 minutes after the car is dropped off and the customer is told that the car will be ready within 1 hour from drop-off. \n",
    "#What is the probability that the service manager cannot meet his commitment?\n",
    "\n",
    "##>> Service manager can't meet his commitment means he's taking more than 50 minutes.\n",
    "P1=stats.norm.cdf(45,50,8)\n",
    "print('The probability that the service manager cannot meet his commitment:',P1)\n"
   ]
  },
  {
   "cell_type": "code",
   "execution_count": 18,
   "metadata": {
    "ExecuteTime": {
     "end_time": "2022-01-04T11:47:50.666614Z",
     "start_time": "2022-01-04T11:47:50.635140Z"
    }
   },
   "outputs": [
    {
     "name": "stdout",
     "output_type": "stream",
     "text": [
      "Probability for employees are older than 44 is: 0.15865525393145707\n",
      "Probability for employees for age between 38& 44 is : 0.3413447460685429\n"
     ]
    }
   ],
   "source": [
    "#Q2.The curent age of 400 clerical employess at an insurance claims processing centre processing center is normally distributed \n",
    "# with mean=38 and std dev=6.For each statement below,please specify True/False.\n",
    "#a)More employees at the processing centre are older than 44 between 38 and 44.\n",
    "#>> We need to calculate probability for age 44 and probability for age between 38 & 44.\n",
    "\n",
    "# P(Age>44)\n",
    "P44=1-stats.norm.cdf(44,38,6)\n",
    "print('Probability for employees are older than 44 is:',P44)\n",
    "\n",
    "# P(38<Age<44)\n",
    "P3844=stats.norm.cdf(44,38,6)-stats.norm.cdf(38,38,6)\n",
    "print('Probability for employees for age between 38& 44 is :',P3844)"
   ]
  },
  {
   "cell_type": "code",
   "execution_count": 20,
   "metadata": {
    "ExecuteTime": {
     "end_time": "2022-01-04T12:01:22.247350Z",
     "start_time": "2022-01-04T12:01:22.223321Z"
    }
   },
   "outputs": [
    {
     "name": "stdout",
     "output_type": "stream",
     "text": [
      "The probability that the employees would be under age 30 is:  0.09121121972586788\n"
     ]
    }
   ],
   "source": [
    "#Q2.B)A training program for employees under the age of 30 at the center would be expected to attract about 36 employees\n",
    "P30=stats.norm.cdf(30,38,6)\n",
    "print('The probability that the employees would be under age 30 is: ',P30)"
   ]
  },
  {
   "cell_type": "code",
   "execution_count": 21,
   "metadata": {
    "ExecuteTime": {
     "end_time": "2022-01-04T12:11:23.010090Z",
     "start_time": "2022-01-04T12:11:22.971312Z"
    }
   },
   "outputs": [
    {
     "data": {
      "text/plain": [
       "(48.48341392902199, 151.516586070978)"
      ]
     },
     "execution_count": 21,
     "metadata": {},
     "output_type": "execute_result"
    }
   ],
   "source": [
    "#Q4.Let X~N(100,20^2),find two values of a and bsymmetric about the mean, \n",
    "#such that the probability of the random variable taking a value between them is 0.99. \n",
    "\n",
    "stats.norm.interval(0.99,100.,20)\n",
    "\n"
   ]
  },
  {
   "cell_type": "code",
   "execution_count": 1,
   "metadata": {
    "ExecuteTime": {
     "end_time": "2022-01-04T17:58:25.772287Z",
     "start_time": "2022-01-04T17:58:25.761285Z"
    }
   },
   "outputs": [
    {
     "name": "stdout",
     "output_type": "stream",
     "text": [
      "Mean of both divisions in Milions is: 540\n"
     ]
    }
   ],
   "source": [
    "# Q5.5.\tConsider a company that has two different divisions. The annual profits from the two divisions are independent and have distributions Profit1 ~ N(5, 32) and Profit2 ~ N(7, 42) respectively. Both the profits are in $ Million. Answer the following questions about the total profit of the company in Rupees. \n",
    "# Assume that $1 = Rs. 45\n",
    "#A.Specify a Rupee range (centered on the mean) such that it contains 95% probability for the annual profit of the company.\n",
    "#B.Specify the 5th percentile of profit (in Rupees) for the company\n",
    "#C.Which of the two divisions has a larger probability of making a loss in a given year?\n",
    "\n",
    "# Firstly we need to calculate total mean for both profit divisions\n",
    "TM=5+7\n",
    "print('Mean of both divisions in Milions is:',TM*45)\n"
   ]
  },
  {
   "cell_type": "code",
   "execution_count": 2,
   "metadata": {
    "ExecuteTime": {
     "end_time": "2022-01-04T18:00:39.200149Z",
     "start_time": "2022-01-04T18:00:39.191151Z"
    }
   },
   "outputs": [
    {
     "name": "stdout",
     "output_type": "stream",
     "text": [
      "SD of both division in milions is: 315\n"
     ]
    }
   ],
   "source": [
    "# Total std for both profit divisions\n",
    "TSD=3^2+4^2 \n",
    "print('SD of both division in milions is:',TSD*45)"
   ]
  },
  {
   "cell_type": "code",
   "execution_count": 5,
   "metadata": {
    "ExecuteTime": {
     "end_time": "2022-01-04T18:01:59.072555Z",
     "start_time": "2022-01-04T18:01:59.048556Z"
    }
   },
   "outputs": [
    {
     "data": {
      "text/plain": [
       "(-77.38865513011706, 1157.388655130117)"
      ]
     },
     "execution_count": 5,
     "metadata": {},
     "output_type": "execute_result"
    }
   ],
   "source": [
    "# using Interval we calculate 95% probability for the annual profit of the company\n",
    "stats.norm.interval(0.95,540,315)"
   ]
  },
  {
   "cell_type": "code",
   "execution_count": 6,
   "metadata": {
    "ExecuteTime": {
     "end_time": "2022-01-04T18:04:46.009352Z",
     "start_time": "2022-01-04T18:04:45.995351Z"
    }
   },
   "outputs": [
    {
     "name": "stdout",
     "output_type": "stream",
     "text": [
      "Probability of making loss for 1st company D1 is : 0.0477903522728147\n",
      "Probability of making loss for 1st company D2 is : 0.040059156863817086\n"
     ]
    }
   ],
   "source": [
    "# Probability of making loss(X<0) for 1st company D1\n",
    "D1=stats.norm.cdf(0,5,3)\n",
    "print('Probability of making loss for 1st company D1 is :', D1)\n",
    "D2= stats.norm.cdf(0,7,4)\n",
    "print('Probability of making loss for 1st company D2 is :', D2)"
   ]
  },
  {
   "cell_type": "code",
   "execution_count": 8,
   "metadata": {
    "ExecuteTime": {
     "end_time": "2022-01-04T18:08:05.017564Z",
     "start_time": "2022-01-04T18:08:05.001553Z"
    }
   },
   "outputs": [
    {
     "name": "stdout",
     "output_type": "stream",
     "text": [
      "Probability of making loss for company D1 is greater than D2 0.0477903522728147\n"
     ]
    }
   ],
   "source": [
    "if D1>D2:\n",
    "   print('Probability of making loss for company D1 is greater than D2',D1)\n",
    "else:\n",
    "    print('Probability of making loss for company D2 is greater than D2',D2)"
   ]
  },
  {
   "cell_type": "markdown",
   "metadata": {},
   "source": [
    "# Set4"
   ]
  },
  {
   "cell_type": "code",
   "execution_count": 16,
   "metadata": {
    "ExecuteTime": {
     "end_time": "2022-01-04T19:31:07.924048Z",
     "start_time": "2022-01-04T19:31:07.892351Z"
    }
   },
   "outputs": [
    {
     "name": "stdout",
     "output_type": "stream",
     "text": [
      "0.10712316878419327\n",
      "0.8928768312158067\n",
      "the probability of not having investigation is:  0.2142463375683865\n"
     ]
    }
   ],
   "source": [
    "#Q3.Given data\n",
    "mu=50\n",
    "s=40\n",
    "n=100\n",
    "\n",
    "# When X_bar=45, for p(x<45)\n",
    "x_bar=45\n",
    "t45=(45-50)/(40/np.sqrt(100))\n",
    "p45=stats.t.cdf(t45,df=99)\n",
    "print(p45)\n",
    "\n",
    "# When X_bar=55,for p(X<55)\n",
    "X_bar=55\n",
    "t55=(55-50)/(40/np.sqrt(100))\n",
    "p55=stats.t.cdf(t55,df=99)\n",
    "print(p55)\n",
    "\n",
    "# Calculating the probability of P(45<x<55) so,\n",
    "P=1-(p55-p45)\n",
    "print('the probability of not having investigation is: ',P)"
   ]
  },
  {
   "cell_type": "code",
   "execution_count": 17,
   "metadata": {
    "ExecuteTime": {
     "end_time": "2022-01-04T19:31:13.035046Z",
     "start_time": "2022-01-04T19:31:13.024616Z"
    }
   },
   "outputs": [
    {
     "data": {
      "text/plain": [
       "2521.166879483336"
      ]
     },
     "execution_count": 17,
     "metadata": {},
     "output_type": "execute_result"
    }
   ],
   "source": [
    "(45+p45)*(55+p55)"
   ]
  },
  {
   "cell_type": "code",
   "execution_count": null,
   "metadata": {},
   "outputs": [],
   "source": []
  }
 ],
 "metadata": {
  "gist": {
   "data": {
    "description": "Set1+Set2+Set3+Set4.ipynb",
    "public": true
   },
   "id": ""
  },
  "kernelspec": {
   "display_name": "Python 3",
   "language": "python",
   "name": "python3"
  },
  "language_info": {
   "codemirror_mode": {
    "name": "ipython",
    "version": 3
   },
   "file_extension": ".py",
   "mimetype": "text/x-python",
   "name": "python",
   "nbconvert_exporter": "python",
   "pygments_lexer": "ipython3",
   "version": "3.8.5"
  },
  "toc": {
   "base_numbering": 1,
   "nav_menu": {},
   "number_sections": true,
   "sideBar": true,
   "skip_h1_title": false,
   "title_cell": "Table of Contents",
   "title_sidebar": "Contents",
   "toc_cell": false,
   "toc_position": {},
   "toc_section_display": true,
   "toc_window_display": false
  },
  "varInspector": {
   "cols": {
    "lenName": 16,
    "lenType": 16,
    "lenVar": 40
   },
   "kernels_config": {
    "python": {
     "delete_cmd_postfix": "",
     "delete_cmd_prefix": "del ",
     "library": "var_list.py",
     "varRefreshCmd": "print(var_dic_list())"
    },
    "r": {
     "delete_cmd_postfix": ") ",
     "delete_cmd_prefix": "rm(",
     "library": "var_list.r",
     "varRefreshCmd": "cat(var_dic_list()) "
    }
   },
   "types_to_exclude": [
    "module",
    "function",
    "builtin_function_or_method",
    "instance",
    "_Feature"
   ],
   "window_display": false
  }
 },
 "nbformat": 4,
 "nbformat_minor": 4
}
